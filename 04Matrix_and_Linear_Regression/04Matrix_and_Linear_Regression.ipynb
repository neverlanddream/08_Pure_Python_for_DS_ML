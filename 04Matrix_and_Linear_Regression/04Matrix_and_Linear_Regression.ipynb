{
 "cells": [
  {
   "cell_type": "markdown",
   "metadata": {
    "collapsed": true,
    "pycharm": {
     "name": "#%% md\n"
    }
   },
   "source": [
    "Regression：抓住信息\n",
    "\n",
    "$ y = mx +b $ <br>\n",
    "$ y = b_0 + b_1 x_1 + b_2 x_2 + ... +  b_n x_n $"
   ]
  },
  {
   "cell_type": "markdown",
   "source": [
    "假设现在有一系列的数据（x1,y1),（x2,y2),（x3,y3)...（xn,yn)<br>\n",
    "$y_1 = (b+mx_1)+e_1$<br>\n",
    "$y_2 = (b+mx_2)+e_2$<br>\n",
    "$y_3 = (b+mx_3)+e_3$<br>\n",
    "...<br>\n",
    "$y_n = (b+mx_n)+e_n$<br>"
   ],
   "metadata": {
    "collapsed": false,
    "pycharm": {
     "name": "#%% md\n"
    }
   }
  },
  {
   "cell_type": "markdown",
   "source": [
    "$Y = \\begin{bmatrix} y_1 \\\\ y_2 \\\\ y_3 \\\\ ... \\\\ y_n \\end{bmatrix}$ $X = \\begin{bmatrix} 1&x_1 \\\\ 1&x_2 \\\\ 1&x_3 \\\\ ...&... \\\\ 1&x_n \\end{bmatrix}$ $A = \\begin{bmatrix} b \\\\ m \\end{bmatrix}$ $E = \\begin{bmatrix} e_1 \\\\ e_2 \\\\ e_3 \\\\ ... \\\\ e_n \\end{bmatrix}$ <br>\n",
    "$Y = XA + E$ <br>\n",
    "$A = (X^TX)^{-1}X^TY $ <br>\n",
    "Sum of squared error : $SSE = E^TE$ <br>"
   ],
   "metadata": {
    "collapsed": false,
    "pycharm": {
     "name": "#%% md\n"
    }
   }
  },
  {
   "cell_type": "markdown",
   "source": [],
   "metadata": {
    "collapsed": false,
    "pycharm": {
     "name": "#%% md\n"
    }
   }
  },
  {
   "cell_type": "code",
   "execution_count": 58,
   "outputs": [
    {
     "data": {
      "text/plain": "array([ 0.        ,  0.1010101 ,  0.2020202 ,  0.3030303 ,  0.4040404 ,\n        0.50505051,  0.60606061,  0.70707071,  0.80808081,  0.90909091,\n        1.01010101,  1.11111111,  1.21212121,  1.31313131,  1.41414141,\n        1.51515152,  1.61616162,  1.71717172,  1.81818182,  1.91919192,\n        2.02020202,  2.12121212,  2.22222222,  2.32323232,  2.42424242,\n        2.52525253,  2.62626263,  2.72727273,  2.82828283,  2.92929293,\n        3.03030303,  3.13131313,  3.23232323,  3.33333333,  3.43434343,\n        3.53535354,  3.63636364,  3.73737374,  3.83838384,  3.93939394,\n        4.04040404,  4.14141414,  4.24242424,  4.34343434,  4.44444444,\n        4.54545455,  4.64646465,  4.74747475,  4.84848485,  4.94949495,\n        5.05050505,  5.15151515,  5.25252525,  5.35353535,  5.45454545,\n        5.55555556,  5.65656566,  5.75757576,  5.85858586,  5.95959596,\n        6.06060606,  6.16161616,  6.26262626,  6.36363636,  6.46464646,\n        6.56565657,  6.66666667,  6.76767677,  6.86868687,  6.96969697,\n        7.07070707,  7.17171717,  7.27272727,  7.37373737,  7.47474747,\n        7.57575758,  7.67676768,  7.77777778,  7.87878788,  7.97979798,\n        8.08080808,  8.18181818,  8.28282828,  8.38383838,  8.48484848,\n        8.58585859,  8.68686869,  8.78787879,  8.88888889,  8.98989899,\n        9.09090909,  9.19191919,  9.29292929,  9.39393939,  9.49494949,\n        9.5959596 ,  9.6969697 ,  9.7979798 ,  9.8989899 , 10.        ])"
     },
     "execution_count": 58,
     "metadata": {},
     "output_type": "execute_result"
    }
   ],
   "source": [
    "import numpy as np\n",
    "import statsmodels.api as sm\n",
    "\n",
    "num_sample = 100\n",
    "x = np.linspace(0,10,num_sample)\n",
    "x"
   ],
   "metadata": {
    "collapsed": false,
    "pycharm": {
     "name": "#%%\n"
    }
   }
  },
  {
   "cell_type": "code",
   "execution_count": 59,
   "outputs": [
    {
     "data": {
      "text/plain": "array([[ 1.        ,  0.        ],\n       [ 1.        ,  0.1010101 ],\n       [ 1.        ,  0.2020202 ],\n       [ 1.        ,  0.3030303 ],\n       [ 1.        ,  0.4040404 ],\n       [ 1.        ,  0.50505051],\n       [ 1.        ,  0.60606061],\n       [ 1.        ,  0.70707071],\n       [ 1.        ,  0.80808081],\n       [ 1.        ,  0.90909091],\n       [ 1.        ,  1.01010101],\n       [ 1.        ,  1.11111111],\n       [ 1.        ,  1.21212121],\n       [ 1.        ,  1.31313131],\n       [ 1.        ,  1.41414141],\n       [ 1.        ,  1.51515152],\n       [ 1.        ,  1.61616162],\n       [ 1.        ,  1.71717172],\n       [ 1.        ,  1.81818182],\n       [ 1.        ,  1.91919192],\n       [ 1.        ,  2.02020202],\n       [ 1.        ,  2.12121212],\n       [ 1.        ,  2.22222222],\n       [ 1.        ,  2.32323232],\n       [ 1.        ,  2.42424242],\n       [ 1.        ,  2.52525253],\n       [ 1.        ,  2.62626263],\n       [ 1.        ,  2.72727273],\n       [ 1.        ,  2.82828283],\n       [ 1.        ,  2.92929293],\n       [ 1.        ,  3.03030303],\n       [ 1.        ,  3.13131313],\n       [ 1.        ,  3.23232323],\n       [ 1.        ,  3.33333333],\n       [ 1.        ,  3.43434343],\n       [ 1.        ,  3.53535354],\n       [ 1.        ,  3.63636364],\n       [ 1.        ,  3.73737374],\n       [ 1.        ,  3.83838384],\n       [ 1.        ,  3.93939394],\n       [ 1.        ,  4.04040404],\n       [ 1.        ,  4.14141414],\n       [ 1.        ,  4.24242424],\n       [ 1.        ,  4.34343434],\n       [ 1.        ,  4.44444444],\n       [ 1.        ,  4.54545455],\n       [ 1.        ,  4.64646465],\n       [ 1.        ,  4.74747475],\n       [ 1.        ,  4.84848485],\n       [ 1.        ,  4.94949495],\n       [ 1.        ,  5.05050505],\n       [ 1.        ,  5.15151515],\n       [ 1.        ,  5.25252525],\n       [ 1.        ,  5.35353535],\n       [ 1.        ,  5.45454545],\n       [ 1.        ,  5.55555556],\n       [ 1.        ,  5.65656566],\n       [ 1.        ,  5.75757576],\n       [ 1.        ,  5.85858586],\n       [ 1.        ,  5.95959596],\n       [ 1.        ,  6.06060606],\n       [ 1.        ,  6.16161616],\n       [ 1.        ,  6.26262626],\n       [ 1.        ,  6.36363636],\n       [ 1.        ,  6.46464646],\n       [ 1.        ,  6.56565657],\n       [ 1.        ,  6.66666667],\n       [ 1.        ,  6.76767677],\n       [ 1.        ,  6.86868687],\n       [ 1.        ,  6.96969697],\n       [ 1.        ,  7.07070707],\n       [ 1.        ,  7.17171717],\n       [ 1.        ,  7.27272727],\n       [ 1.        ,  7.37373737],\n       [ 1.        ,  7.47474747],\n       [ 1.        ,  7.57575758],\n       [ 1.        ,  7.67676768],\n       [ 1.        ,  7.77777778],\n       [ 1.        ,  7.87878788],\n       [ 1.        ,  7.97979798],\n       [ 1.        ,  8.08080808],\n       [ 1.        ,  8.18181818],\n       [ 1.        ,  8.28282828],\n       [ 1.        ,  8.38383838],\n       [ 1.        ,  8.48484848],\n       [ 1.        ,  8.58585859],\n       [ 1.        ,  8.68686869],\n       [ 1.        ,  8.78787879],\n       [ 1.        ,  8.88888889],\n       [ 1.        ,  8.98989899],\n       [ 1.        ,  9.09090909],\n       [ 1.        ,  9.19191919],\n       [ 1.        ,  9.29292929],\n       [ 1.        ,  9.39393939],\n       [ 1.        ,  9.49494949],\n       [ 1.        ,  9.5959596 ],\n       [ 1.        ,  9.6969697 ],\n       [ 1.        ,  9.7979798 ],\n       [ 1.        ,  9.8989899 ],\n       [ 1.        , 10.        ]])"
     },
     "execution_count": 59,
     "metadata": {},
     "output_type": "execute_result"
    }
   ],
   "source": [
    "X = sm.add_constant(x)\n",
    "X"
   ],
   "metadata": {
    "collapsed": false,
    "pycharm": {
     "name": "#%%\n"
    }
   }
  },
  {
   "cell_type": "code",
   "execution_count": 60,
   "outputs": [
    {
     "data": {
      "text/plain": "array([ 1, 10])"
     },
     "execution_count": 60,
     "metadata": {},
     "output_type": "execute_result"
    }
   ],
   "source": [
    "beta = np.array([1,10])\n",
    "beta"
   ],
   "metadata": {
    "collapsed": false,
    "pycharm": {
     "name": "#%%\n"
    }
   }
  },
  {
   "cell_type": "code",
   "execution_count": 61,
   "outputs": [
    {
     "data": {
      "text/plain": "array([ 1.82481091, -0.13821315,  1.38434614, -0.04869896,  0.20584161,\n       -0.09679802,  0.63274163, -0.28426089,  1.11739667, -1.07499572,\n        1.47335897,  0.69073611,  0.46474727, -1.37933891, -0.7185918 ,\n       -0.42528462,  0.61692015, -1.58567156,  0.54648074, -1.39827583,\n        0.45605029, -1.75613498, -0.27366684,  0.75086155, -0.93161871,\n        0.47817334,  0.68179256,  1.10391658,  0.20224917,  1.48824448,\n        0.17219899, -0.27726896, -0.66051806,  0.05157009,  1.06953139,\n       -0.00954728, -0.5410011 , -0.26071595,  0.8902493 , -0.61178835,\n        0.42869566, -1.0639555 , -0.40386732,  0.87882685,  1.24344962,\n        0.74610283, -0.04007477,  0.68109016, -0.89566053,  0.10174405,\n        0.31344107, -0.58296045, -0.14545656,  0.02374345, -1.64683318,\n       -1.42387926, -2.08983774,  0.58920998, -0.18683826, -1.01592477,\n        1.20084816,  1.65333266,  0.22389839, -0.56016302,  0.09436142,\n       -0.00553183, -0.59261627,  0.22046354,  0.34869913, -1.27472225,\n        0.92782412, -0.61930922,  0.09851851, -1.28930741, -0.96957672,\n        0.76919327, -0.84001187, -1.04665671, -0.08609965,  0.44224361,\n       -0.53592434,  0.47487661,  0.67546401, -0.72389217, -1.37591375,\n        0.19133475,  0.9808027 , -1.13017332,  0.42090733,  0.94810625,\n       -0.75402789, -1.43083412, -0.86351076, -1.185236  ,  1.888834  ,\n       -0.22504135,  1.23628198,  0.24914168,  1.03996426,  0.60246596])"
     },
     "execution_count": 61,
     "metadata": {},
     "output_type": "execute_result"
    }
   ],
   "source": [
    "e = np.random.normal(size=num_sample)\n",
    "e"
   ],
   "metadata": {
    "collapsed": false,
    "pycharm": {
     "name": "#%%\n"
    }
   }
  },
  {
   "cell_type": "code",
   "execution_count": 62,
   "outputs": [
    {
     "data": {
      "text/plain": "array([  2.82481091,   1.87188786,   4.40454817,   3.98160407,\n         5.24624565,   5.95370703,   7.6933477 ,   7.78644618,\n        10.19820475,   9.01591337,  12.57436907,  12.80184722,\n        13.5859594 ,  12.75197422,  14.42282234,  15.72623053,\n        17.77853631,  16.58604561,  19.72829892,  18.79364336,\n        21.65807049,  20.45598623,  22.94855538,  24.98318479,\n        24.31080553,  26.7306986 ,  27.94441882,  29.37664385,\n        29.48507746,  31.78117377,  31.4752293 ,  32.03586235,\n        32.66271426,  34.38490343,  36.41296573,  36.34398807,\n        36.82263527,  38.11302142,  40.27408768,  39.78215104,\n        41.83273606,  41.35018591,  43.02037511,  45.31317028,\n        46.68789407,  47.20064829,  47.42457169,  49.15583763,\n        48.58918795,  50.59669355,  51.81849157,  51.93219106,\n        53.37979597,  54.55909699,  53.89862137,  55.1316763 ,\n        55.47581883,  59.16496755,  59.39902032,  59.58003483,\n        62.80690876,  64.26949427,  63.85016102,  64.07620062,\n        65.74082606,  66.65103383,  67.0740504 ,  68.89723122,\n        70.03556781,  69.42224745,  72.63489482,  72.09786249,\n        73.82579124,  73.44806633,  74.77789803,  77.52676903,\n        76.9276649 ,  77.73112107,  79.70177914,  81.24022341,\n        81.27215647,  83.29305843,  84.50374684,  84.11449167,\n        84.4725711 ,  87.04992061,  88.84948957,  87.74861456,\n        90.30979622,  91.84709615,  91.15506302,  91.4883578 ,\n        93.06578216,  93.75415794,  97.83832895,  96.73455461,\n        99.20597895,  99.22893966, 101.02986325, 101.60246596])"
     },
     "execution_count": 62,
     "metadata": {},
     "output_type": "execute_result"
    }
   ],
   "source": [
    "Y = np.dot(X,beta) + e\n",
    "Y"
   ],
   "metadata": {
    "collapsed": false,
    "pycharm": {
     "name": "#%%\n"
    }
   }
  },
  {
   "cell_type": "markdown",
   "source": [
    "$A = (X^TX)^{-1}X^TY $ <br> .doc可以连乘"
   ],
   "metadata": {
    "collapsed": false,
    "pycharm": {
     "name": "#%% md\n"
    }
   }
  },
  {
   "cell_type": "code",
   "execution_count": 63,
   "outputs": [
    {
     "data": {
      "text/plain": "array([1.11740676, 9.97355836])"
     },
     "execution_count": 63,
     "metadata": {},
     "output_type": "execute_result"
    }
   ],
   "source": [
    "np.dot(np.dot(np.linalg.inv(np.dot(X.T,X)),X.T),Y)"
   ],
   "metadata": {
    "collapsed": false,
    "pycharm": {
     "name": "#%%\n"
    }
   }
  },
  {
   "cell_type": "code",
   "execution_count": 64,
   "outputs": [
    {
     "data": {
      "text/plain": "array([1.11740676, 9.97355836])"
     },
     "execution_count": 64,
     "metadata": {},
     "output_type": "execute_result"
    }
   ],
   "source": [
    "np.linalg.inv(np.dot(X.T,X)).dot(X.T).dot(Y)"
   ],
   "metadata": {
    "collapsed": false,
    "pycharm": {
     "name": "#%%\n"
    }
   }
  },
  {
   "cell_type": "markdown",
   "source": [
    "以下应用statsmodel包计算上述结果，以OLS为例"
   ],
   "metadata": {
    "collapsed": false,
    "pycharm": {
     "name": "#%% md\n"
    }
   }
  },
  {
   "cell_type": "code",
   "execution_count": 65,
   "outputs": [],
   "source": [
    "model = sm.OLS(Y,X)"
   ],
   "metadata": {
    "collapsed": false,
    "pycharm": {
     "name": "#%%\n"
    }
   }
  },
  {
   "cell_type": "code",
   "execution_count": 66,
   "outputs": [],
   "source": [
    "results = model.fit()"
   ],
   "metadata": {
    "collapsed": false,
    "pycharm": {
     "name": "#%%\n"
    }
   }
  },
  {
   "cell_type": "code",
   "execution_count": 67,
   "outputs": [
    {
     "data": {
      "text/plain": "array([1.11740676, 9.97355836])"
     },
     "execution_count": 67,
     "metadata": {},
     "output_type": "execute_result"
    }
   ],
   "source": [
    "results.params"
   ],
   "metadata": {
    "collapsed": false,
    "pycharm": {
     "name": "#%%\n"
    }
   }
  },
  {
   "cell_type": "code",
   "execution_count": 68,
   "outputs": [
    {
     "name": "stdout",
     "output_type": "stream",
     "text": [
      "                            OLS Regression Results                            \n",
      "==============================================================================\n",
      "Dep. Variable:                      y   R-squared:                       0.999\n",
      "Model:                            OLS   Adj. R-squared:                  0.999\n",
      "Method:                 Least Squares   F-statistic:                 1.058e+05\n",
      "Date:                Fri, 08 Apr 2022   Prob (F-statistic):          1.77e-150\n",
      "Time:                        18:32:39   Log-Likelihood:                -129.66\n",
      "No. Observations:                 100   AIC:                             263.3\n",
      "Df Residuals:                      98   BIC:                             268.5\n",
      "Df Model:                           1                                         \n",
      "Covariance Type:            nonrobust                                         \n",
      "==============================================================================\n",
      "                 coef    std err          t      P>|t|      [0.025      0.975]\n",
      "------------------------------------------------------------------------------\n",
      "const          1.1174      0.177      6.297      0.000       0.765       1.470\n",
      "x1             9.9736      0.031    325.334      0.000       9.913      10.034\n",
      "==============================================================================\n",
      "Omnibus:                        3.029   Durbin-Watson:                   2.013\n",
      "Prob(Omnibus):                  0.220   Jarque-Bera (JB):                1.914\n",
      "Skew:                          -0.089   Prob(JB):                        0.384\n",
      "Kurtosis:                       2.346   Cond. No.                         11.7\n",
      "==============================================================================\n",
      "\n",
      "Notes:\n",
      "[1] Standard Errors assume that the covariance matrix of the errors is correctly specified.\n"
     ]
    }
   ],
   "source": [
    "print(results.summary())"
   ],
   "metadata": {
    "collapsed": false,
    "pycharm": {
     "name": "#%%\n"
    }
   }
  },
  {
   "cell_type": "markdown",
   "source": [
    "以下可视化"
   ],
   "metadata": {
    "collapsed": false,
    "pycharm": {
     "name": "#%% md\n"
    }
   }
  },
  {
   "cell_type": "code",
   "execution_count": 70,
   "outputs": [
    {
     "data": {
      "text/plain": "array([  2.82481091,   1.87188786,   4.40454817,   3.98160407,\n         5.24624565,   5.95370703,   7.6933477 ,   7.78644618,\n        10.19820475,   9.01591337,  12.57436907,  12.80184722,\n        13.5859594 ,  12.75197422,  14.42282234,  15.72623053,\n        17.77853631,  16.58604561,  19.72829892,  18.79364336,\n        21.65807049,  20.45598623,  22.94855538,  24.98318479,\n        24.31080553,  26.7306986 ,  27.94441882,  29.37664385,\n        29.48507746,  31.78117377,  31.4752293 ,  32.03586235,\n        32.66271426,  34.38490343,  36.41296573,  36.34398807,\n        36.82263527,  38.11302142,  40.27408768,  39.78215104,\n        41.83273606,  41.35018591,  43.02037511,  45.31317028,\n        46.68789407,  47.20064829,  47.42457169,  49.15583763,\n        48.58918795,  50.59669355,  51.81849157,  51.93219106,\n        53.37979597,  54.55909699,  53.89862137,  55.1316763 ,\n        55.47581883,  59.16496755,  59.39902032,  59.58003483,\n        62.80690876,  64.26949427,  63.85016102,  64.07620062,\n        65.74082606,  66.65103383,  67.0740504 ,  68.89723122,\n        70.03556781,  69.42224745,  72.63489482,  72.09786249,\n        73.82579124,  73.44806633,  74.77789803,  77.52676903,\n        76.9276649 ,  77.73112107,  79.70177914,  81.24022341,\n        81.27215647,  83.29305843,  84.50374684,  84.11449167,\n        84.4725711 ,  87.04992061,  88.84948957,  87.74861456,\n        90.30979622,  91.84709615,  91.15506302,  91.4883578 ,\n        93.06578216,  93.75415794,  97.83832895,  96.73455461,\n        99.20597895,  99.22893966, 101.02986325, 101.60246596])"
     },
     "execution_count": 70,
     "metadata": {},
     "output_type": "execute_result"
    }
   ],
   "source": [
    "import matplotlib.pyplot as plt\n",
    "Y"
   ],
   "metadata": {
    "collapsed": false,
    "pycharm": {
     "name": "#%%\n"
    }
   }
  },
  {
   "cell_type": "code",
   "execution_count": 71,
   "outputs": [
    {
     "data": {
      "text/plain": "array([  1.11740676,   2.1248369 ,   3.13226704,   4.13969718,\n         5.14712731,   6.15455745,   7.16198759,   8.16941773,\n         9.17684787,  10.184278  ,  11.19170814,  12.19913828,\n        13.20656842,  14.21399855,  15.22142869,  16.22885883,\n        17.23628897,  18.2437191 ,  19.25114924,  20.25857938,\n        21.26600952,  22.27343965,  23.28086979,  24.28829993,\n        25.29573007,  26.3031602 ,  27.31059034,  28.31802048,\n        29.32545062,  30.33288075,  31.34031089,  32.34774103,\n        33.35517117,  34.3626013 ,  35.37003144,  36.37746158,\n        37.38489172,  38.39232185,  39.39975199,  40.40718213,\n        41.41461227,  42.4220424 ,  43.42947254,  44.43690268,\n        45.44433282,  46.45176295,  47.45919309,  48.46662323,\n        49.47405337,  50.4814835 ,  51.48891364,  52.49634378,\n        53.50377392,  54.51120405,  55.51863419,  56.52606433,\n        57.53349447,  58.5409246 ,  59.54835474,  60.55578488,\n        61.56321502,  62.57064515,  63.57807529,  64.58550543,\n        65.59293557,  66.6003657 ,  67.60779584,  68.61522598,\n        69.62265612,  70.63008625,  71.63751639,  72.64494653,\n        73.65237667,  74.6598068 ,  75.66723694,  76.67466708,\n        77.68209722,  78.68952735,  79.69695749,  80.70438763,\n        81.71181777,  82.7192479 ,  83.72667804,  84.73410818,\n        85.74153832,  86.74896845,  87.75639859,  88.76382873,\n        89.77125887,  90.778689  ,  91.78611914,  92.79354928,\n        93.80097942,  94.80840956,  95.81583969,  96.82326983,\n        97.83069997,  98.83813011,  99.84556024, 100.85299038])"
     },
     "execution_count": 71,
     "metadata": {},
     "output_type": "execute_result"
    }
   ],
   "source": [
    "fitted_Ys = results.fittedvalues\n",
    "fitted_Ys"
   ],
   "metadata": {
    "collapsed": false,
    "pycharm": {
     "name": "#%%\n"
    }
   }
  },
  {
   "cell_type": "code",
   "execution_count": 75,
   "outputs": [
    {
     "data": {
      "text/plain": "<matplotlib.legend.Legend at 0x19a60f0a8b0>"
     },
     "execution_count": 75,
     "metadata": {},
     "output_type": "execute_result"
    },
    {
     "data": {
      "text/plain": "<Figure size 1080x576 with 1 Axes>",
      "image/png": "[encoded data removed]"
     },
     "metadata": {
      "needs_background": "light"
     },
     "output_type": "display_data"
    }
   ],
   "source": [
    "fig , ax = plt.subplots(figsize = (15,8))\n",
    "ax.plot(x,Y,color='green',marker='o',label='data')\n",
    "ax.plot(x,fitted_Ys,color='red',label='OLS')\n",
    "ax.legend()"
   ],
   "metadata": {
    "collapsed": false,
    "pycharm": {
     "name": "#%%\n"
    }
   }
  },
  {
   "cell_type": "markdown",
   "source": [
    "以下用股票数据做一个案例\n",
    "案例研究：两个股票是否线性相关？（以华通医药-->X 和第一医药-->Y）"
   ],
   "metadata": {
    "collapsed": false,
    "pycharm": {
     "name": "#%% md\n"
    }
   }
  },
  {
   "cell_type": "code",
   "execution_count": 77,
   "outputs": [],
   "source": [
    "import tushare as ts\n",
    "import matplotlib.pyplot as plt\n",
    "import numpy as np\n",
    "import statsmodels.api as sm"
   ],
   "metadata": {
    "collapsed": false,
    "pycharm": {
     "name": "#%%\n"
    }
   }
  },
  {
   "cell_type": "code",
   "execution_count": 78,
   "outputs": [],
   "source": [
    "pro = ts.pro_api('')"
   ],
   "metadata": {
    "collapsed": false,
    "pycharm": {
     "name": "#%%\n"
    }
   }
  },
  {
   "cell_type": "code",
   "execution_count": 79,
   "outputs": [
    {
     "data": {
      "text/plain": "      ts_code trade_date  open  high   low  close  pre_close  change  pct_chg  \\\n0   002758.SZ   20190815  8.51  8.73  8.37   8.67       8.71   -0.04  -0.4592   \n1   002758.SZ   20190814  8.79  8.83  8.68   8.71       8.69    0.02   0.2301   \n2   002758.SZ   20190813  8.73  8.76  8.66   8.69       8.82   -0.13  -1.4739   \n3   002758.SZ   20190812  8.74  8.89  8.69   8.82       8.74    0.08   0.9153   \n4   002758.SZ   20190809  8.78  8.85  8.65   8.74       8.73    0.01   0.1145   \n5   002758.SZ   20190808  8.64  8.81  8.64   8.73       8.63    0.10   1.1587   \n6   002758.SZ   20190807  8.78  8.80  8.63   8.63       8.69   -0.06  -0.6904   \n7   002758.SZ   20190806  8.73  8.85  8.60   8.69       8.90   -0.21  -2.3596   \n8   002758.SZ   20190805  9.00  9.04  8.87   8.90       8.93   -0.03  -0.3359   \n9   002758.SZ   20190802  9.03  9.03  8.80   8.93       9.12   -0.19  -2.0833   \n10  002758.SZ   20190801  9.00  9.15  8.95   9.12       9.04    0.08   0.8850   \n11  002758.SZ   20190731  9.15  9.15  9.01   9.04       9.15   -0.11  -1.2022   \n12  002758.SZ   20190730  9.22  9.35  9.11   9.15       9.25   -0.10  -1.0811   \n13  002758.SZ   20190729  8.92  9.75  8.88   9.25       8.92    0.33   3.6996   \n14  002758.SZ   20190726  8.83  8.94  8.83   8.92       8.90    0.02   0.2247   \n15  002758.SZ   20190725  8.79  9.00  8.79   8.90       8.89    0.01   0.1125   \n16  002758.SZ   20190724  8.80  8.94  8.74   8.89       8.73    0.16   1.8328   \n17  002758.SZ   20190723  8.60  8.79  8.60   8.73       8.66    0.07   0.8083   \n18  002758.SZ   20190722  8.90  8.95  8.62   8.66       8.89   -0.23  -2.5872   \n19  002758.SZ   20190719  8.84  8.99  8.84   8.89       8.82    0.07   0.7937   \n20  002758.SZ   20190718  9.01  9.01  8.82   8.82       9.02   -0.20  -2.2173   \n21  002758.SZ   20190717  9.04  9.14  8.98   9.02       9.05   -0.03  -0.3315   \n22  002758.SZ   20190716  9.05  9.15  8.98   9.05       9.04    0.01   0.1106   \n23  002758.SZ   20190715  9.09  9.17  8.85   9.04       9.19   -0.15  -1.6322   \n\n         vol     amount  \n0   12550.53  10778.198  \n1    6898.75   6026.758  \n2    9299.77   8092.306  \n3    8123.61   7116.566  \n4   10461.00   9143.974  \n5    8754.50   7640.938  \n6    9081.50   7914.696  \n7   20031.66  17433.940  \n8   10291.50   9208.161  \n9   11517.25  10321.057  \n10  11221.25  10188.811  \n11  12338.94  11172.575  \n12  22501.00  20699.634  \n13  42511.81  39744.733  \n14   6439.00   5725.435  \n15   7992.75   7113.477  \n16  10586.23   9395.871  \n17   8726.00   7615.044  \n18  13042.62  11387.093  \n19   6431.00   5740.798  \n20  15105.50  13415.785  \n21  15277.00  13784.043  \n22  10122.00   9175.168  \n23  21086.46  18942.928  ",
      "text/html": "<div>\n<style scoped>\n    .dataframe tbody tr th:only-of-type {\n        vertical-align: middle;\n    }\n\n    .dataframe tbody tr th {\n        vertical-align: top;\n    }\n\n    .dataframe thead th {\n        text-align: right;\n    }\n</style>\n<table border=\"1\" class=\"dataframe\">\n  <thead>\n    <tr style=\"text-align: right;\">\n      <th></th>\n      <th>ts_code</th>\n      <th>trade_date</th>\n      <th>open</th>\n      <th>high</th>\n      <th>low</th>\n      <th>close</th>\n      <th>pre_close</th>\n      <th>change</th>\n      <th>pct_chg</th>\n      <th>vol</th>\n      <th>amount</th>\n    </tr>\n  </thead>\n  <tbody>\n    <tr>\n      <th>0</th>\n      <td>002758.SZ</td>\n      <td>20190815</td>\n      <td>8.51</td>\n      <td>8.73</td>\n      <td>8.37</td>\n      <td>8.67</td>\n      <td>8.71</td>\n      <td>-0.04</td>\n      <td>-0.4592</td>\n      <td>12550.53</td>\n      <td>10778.198</td>\n    </tr>\n    <tr>\n      <th>1</th>\n      <td>002758.SZ</td>\n      <td>20190814</td>\n      <td>8.79</td>\n      <td>8.83</td>\n      <td>8.68</td>\n      <td>8.71</td>\n      <td>8.69</td>\n      <td>0.02</td>\n      <td>0.2301</td>\n      <td>6898.75</td>\n      <td>6026.758</td>\n    </tr>\n    <tr>\n      <th>2</th>\n      <td>002758.SZ</td>\n      <td>20190813</td>\n      <td>8.73</td>\n      <td>8.76</td>\n      <td>8.66</td>\n      <td>8.69</td>\n      <td>8.82</td>\n      <td>-0.13</td>\n      <td>-1.4739</td>\n      <td>9299.77</td>\n      <td>8092.306</td>\n    </tr>\n    <tr>\n      <th>3</th>\n      <td>002758.SZ</td>\n      <td>20190812</td>\n      <td>8.74</td>\n      <td>8.89</td>\n      <td>8.69</td>\n      <td>8.82</td>\n      <td>8.74</td>\n      <td>0.08</td>\n      <td>0.9153</td>\n      <td>8123.61</td>\n      <td>7116.566</td>\n    </tr>\n    <tr>\n      <th>4</th>\n      <td>002758.SZ</td>\n      <td>20190809</td>\n      <td>8.78</td>\n      <td>8.85</td>\n      <td>8.65</td>\n      <td>8.74</td>\n      <td>8.73</td>\n      <td>0.01</td>\n      <td>0.1145</td>\n      <td>10461.00</td>\n      <td>9143.974</td>\n    </tr>\n    <tr>\n      <th>5</th>\n      <td>002758.SZ</td>\n      <td>20190808</td>\n      <td>8.64</td>\n      <td>8.81</td>\n      <td>8.64</td>\n      <td>8.73</td>\n      <td>8.63</td>\n      <td>0.10</td>\n      <td>1.1587</td>\n      <td>8754.50</td>\n      <td>7640.938</td>\n    </tr>\n    <tr>\n      <th>6</th>\n      <td>002758.SZ</td>\n      <td>20190807</td>\n      <td>8.78</td>\n      <td>8.80</td>\n      <td>8.63</td>\n      <td>8.63</td>\n      <td>8.69</td>\n      <td>-0.06</td>\n      <td>-0.6904</td>\n      <td>9081.50</td>\n      <td>7914.696</td>\n    </tr>\n    <tr>\n      <th>7</th>\n      <td>002758.SZ</td>\n      <td>20190806</td>\n      <td>8.73</td>\n      <td>8.85</td>\n      <td>8.60</td>\n      <td>8.69</td>\n      <td>8.90</td>\n      <td>-0.21</td>\n      <td>-2.3596</td>\n      <td>20031.66</td>\n      <td>17433.940</td>\n    </tr>\n    <tr>\n      <th>8</th>\n      <td>002758.SZ</td>\n      <td>20190805</td>\n      <td>9.00</td>\n      <td>9.04</td>\n      <td>8.87</td>\n      <td>8.90</td>\n      <td>8.93</td>\n      <td>-0.03</td>\n      <td>-0.3359</td>\n      <td>10291.50</td>\n      <td>9208.161</td>\n    </tr>\n    <tr>\n      <th>9</th>\n      <td>002758.SZ</td>\n      <td>20190802</td>\n      <td>9.03</td>\n      <td>9.03</td>\n      <td>8.80</td>\n      <td>8.93</td>\n      <td>9.12</td>\n      <td>-0.19</td>\n      <td>-2.0833</td>\n      <td>11517.25</td>\n      <td>10321.057</td>\n    </tr>\n    <tr>\n      <th>10</th>\n      <td>002758.SZ</td>\n      <td>20190801</td>\n      <td>9.00</td>\n      <td>9.15</td>\n      <td>8.95</td>\n      <td>9.12</td>\n      <td>9.04</td>\n      <td>0.08</td>\n      <td>0.8850</td>\n      <td>11221.25</td>\n      <td>10188.811</td>\n    </tr>\n    <tr>\n      <th>11</th>\n      <td>002758.SZ</td>\n      <td>20190731</td>\n      <td>9.15</td>\n      <td>9.15</td>\n      <td>9.01</td>\n      <td>9.04</td>\n      <td>9.15</td>\n      <td>-0.11</td>\n      <td>-1.2022</td>\n      <td>12338.94</td>\n      <td>11172.575</td>\n    </tr>\n    <tr>\n      <th>12</th>\n      <td>002758.SZ</td>\n      <td>20190730</td>\n      <td>9.22</td>\n      <td>9.35</td>\n      <td>9.11</td>\n      <td>9.15</td>\n      <td>9.25</td>\n      <td>-0.10</td>\n      <td>-1.0811</td>\n      <td>22501.00</td>\n      <td>20699.634</td>\n    </tr>\n    <tr>\n      <th>13</th>\n      <td>002758.SZ</td>\n      <td>20190729</td>\n      <td>8.92</td>\n      <td>9.75</td>\n      <td>8.88</td>\n      <td>9.25</td>\n      <td>8.92</td>\n      <td>0.33</td>\n      <td>3.6996</td>\n      <td>42511.81</td>\n      <td>39744.733</td>\n    </tr>\n    <tr>\n      <th>14</th>\n      <td>002758.SZ</td>\n      <td>20190726</td>\n      <td>8.83</td>\n      <td>8.94</td>\n      <td>8.83</td>\n      <td>8.92</td>\n      <td>8.90</td>\n      <td>0.02</td>\n      <td>0.2247</td>\n      <td>6439.00</td>\n      <td>5725.435</td>\n    </tr>\n    <tr>\n      <th>15</th>\n      <td>002758.SZ</td>\n      <td>20190725</td>\n      <td>8.79</td>\n      <td>9.00</td>\n      <td>8.79</td>\n      <td>8.90</td>\n      <td>8.89</td>\n      <td>0.01</td>\n      <td>0.1125</td>\n      <td>7992.75</td>\n      <td>7113.477</td>\n    </tr>\n    <tr>\n      <th>16</th>\n      <td>002758.SZ</td>\n      <td>20190724</td>\n      <td>8.80</td>\n      <td>8.94</td>\n      <td>8.74</td>\n      <td>8.89</td>\n      <td>8.73</td>\n      <td>0.16</td>\n      <td>1.8328</td>\n      <td>10586.23</td>\n      <td>9395.871</td>\n    </tr>\n    <tr>\n      <th>17</th>\n      <td>002758.SZ</td>\n      <td>20190723</td>\n      <td>8.60</td>\n      <td>8.79</td>\n      <td>8.60</td>\n      <td>8.73</td>\n      <td>8.66</td>\n      <td>0.07</td>\n      <td>0.8083</td>\n      <td>8726.00</td>\n      <td>7615.044</td>\n    </tr>\n    <tr>\n      <th>18</th>\n      <td>002758.SZ</td>\n      <td>20190722</td>\n      <td>8.90</td>\n      <td>8.95</td>\n      <td>8.62</td>\n      <td>8.66</td>\n      <td>8.89</td>\n      <td>-0.23</td>\n      <td>-2.5872</td>\n      <td>13042.62</td>\n      <td>11387.093</td>\n    </tr>\n    <tr>\n      <th>19</th>\n      <td>002758.SZ</td>\n      <td>20190719</td>\n      <td>8.84</td>\n      <td>8.99</td>\n      <td>8.84</td>\n      <td>8.89</td>\n      <td>8.82</td>\n      <td>0.07</td>\n      <td>0.7937</td>\n      <td>6431.00</td>\n      <td>5740.798</td>\n    </tr>\n    <tr>\n      <th>20</th>\n      <td>002758.SZ</td>\n      <td>20190718</td>\n      <td>9.01</td>\n      <td>9.01</td>\n      <td>8.82</td>\n      <td>8.82</td>\n      <td>9.02</td>\n      <td>-0.20</td>\n      <td>-2.2173</td>\n      <td>15105.50</td>\n      <td>13415.785</td>\n    </tr>\n    <tr>\n      <th>21</th>\n      <td>002758.SZ</td>\n      <td>20190717</td>\n      <td>9.04</td>\n      <td>9.14</td>\n      <td>8.98</td>\n      <td>9.02</td>\n      <td>9.05</td>\n      <td>-0.03</td>\n      <td>-0.3315</td>\n      <td>15277.00</td>\n      <td>13784.043</td>\n    </tr>\n    <tr>\n      <th>22</th>\n      <td>002758.SZ</td>\n      <td>20190716</td>\n      <td>9.05</td>\n      <td>9.15</td>\n      <td>8.98</td>\n      <td>9.05</td>\n      <td>9.04</td>\n      <td>0.01</td>\n      <td>0.1106</td>\n      <td>10122.00</td>\n      <td>9175.168</td>\n    </tr>\n    <tr>\n      <th>23</th>\n      <td>002758.SZ</td>\n      <td>20190715</td>\n      <td>9.09</td>\n      <td>9.17</td>\n      <td>8.85</td>\n      <td>9.04</td>\n      <td>9.19</td>\n      <td>-0.15</td>\n      <td>-1.6322</td>\n      <td>21086.46</td>\n      <td>18942.928</td>\n    </tr>\n  </tbody>\n</table>\n</div>"
     },
     "execution_count": 79,
     "metadata": {},
     "output_type": "execute_result"
    }
   ],
   "source": [
    "df_HTYY = pro.daily(ts_code = \"002758.SZ\", start_date = \"20190715\", end_date = \"20190815\")\n",
    "df_HTYY"
   ],
   "metadata": {
    "collapsed": false,
    "pycharm": {
     "name": "#%%\n"
    }
   }
  },
  {
   "cell_type": "code",
   "execution_count": 80,
   "outputs": [
    {
     "data": {
      "text/plain": "array([-0.4592,  0.2301, -1.4739,  0.9153,  0.1145,  1.1587, -0.6904,\n       -2.3596, -0.3359, -2.0833,  0.885 , -1.2022, -1.0811,  3.6996,\n        0.2247,  0.1125,  1.8328,  0.8083, -2.5872,  0.7937, -2.2173,\n       -0.3315,  0.1106, -1.6322])"
     },
     "execution_count": 80,
     "metadata": {},
     "output_type": "execute_result"
    }
   ],
   "source": [
    "df_HTYY_pct_change = df_HTYY[\"pct_chg\"].values\n",
    "df_HTYY_pct_change"
   ],
   "metadata": {
    "collapsed": false,
    "pycharm": {
     "name": "#%%\n"
    }
   }
  },
  {
   "cell_type": "code",
   "execution_count": 81,
   "outputs": [
    {
     "data": {
      "text/plain": "array([ 0.1073,  0.8658, -1.3874,  1.7372, -2.4364,  1.6146, -1.2752,\n       -4.7571, -1.002 , -1.0902,  0.    ,  1.3052,  0.8097, -0.9027,\n        1.1156, -0.404 ,  1.5385,  0.9317, -2.2267, -0.1011, -1.1   ,\n       -0.6951, -0.8858,  0.8937])"
     },
     "execution_count": 81,
     "metadata": {},
     "output_type": "execute_result"
    }
   ],
   "source": [
    "df_DYYY = pro.daily(ts_code = \"600833.SH\", start_date = \"20190715\", end_date = \"20190815\")\n",
    "df_DYYY_pct_change = df_DYYY[\"pct_chg\"].values\n",
    "df_DYYY_pct_change"
   ],
   "metadata": {
    "collapsed": false,
    "pycharm": {
     "name": "#%%\n"
    }
   }
  },
  {
   "cell_type": "code",
   "execution_count": 82,
   "outputs": [
    {
     "data": {
      "text/plain": "array([[ 1.    , -0.4592],\n       [ 1.    ,  0.2301],\n       [ 1.    , -1.4739],\n       [ 1.    ,  0.9153],\n       [ 1.    ,  0.1145],\n       [ 1.    ,  1.1587],\n       [ 1.    , -0.6904],\n       [ 1.    , -2.3596],\n       [ 1.    , -0.3359],\n       [ 1.    , -2.0833],\n       [ 1.    ,  0.885 ],\n       [ 1.    , -1.2022],\n       [ 1.    , -1.0811],\n       [ 1.    ,  3.6996],\n       [ 1.    ,  0.2247],\n       [ 1.    ,  0.1125],\n       [ 1.    ,  1.8328],\n       [ 1.    ,  0.8083],\n       [ 1.    , -2.5872],\n       [ 1.    ,  0.7937],\n       [ 1.    , -2.2173],\n       [ 1.    , -0.3315],\n       [ 1.    ,  0.1106],\n       [ 1.    , -1.6322]])"
     },
     "execution_count": 82,
     "metadata": {},
     "output_type": "execute_result"
    }
   ],
   "source": [
    "X_df_HTYY_pct_change = sm.add_constant(df_HTYY_pct_change)\n",
    "X_df_HTYY_pct_change"
   ],
   "metadata": {
    "collapsed": false,
    "pycharm": {
     "name": "#%%\n"
    }
   }
  },
  {
   "cell_type": "code",
   "execution_count": 85,
   "outputs": [
    {
     "name": "stdout",
     "output_type": "stream",
     "text": [
      "                            OLS Regression Results                            \n",
      "==============================================================================\n",
      "Dep. Variable:                      y   R-squared:                       0.197\n",
      "Model:                            OLS   Adj. R-squared:                  0.160\n",
      "Method:                 Least Squares   F-statistic:                     5.395\n",
      "Date:                Fri, 08 Apr 2022   Prob (F-statistic):             0.0298\n",
      "Time:                        19:01:32   Log-Likelihood:                -41.266\n",
      "No. Observations:                  24   AIC:                             86.53\n",
      "Df Residuals:                      22   BIC:                             88.89\n",
      "Df Model:                           1                                         \n",
      "Covariance Type:            nonrobust                                         \n",
      "==============================================================================\n",
      "                 coef    std err          t      P>|t|      [0.025      0.975]\n",
      "------------------------------------------------------------------------------\n",
      "const         -0.1985      0.292     -0.681      0.503      -0.803       0.406\n",
      "x1             0.4633      0.199      2.323      0.030       0.050       0.877\n",
      "==============================================================================\n",
      "Omnibus:                        3.207   Durbin-Watson:                   2.312\n",
      "Prob(Omnibus):                  0.201   Jarque-Bera (JB):                2.025\n",
      "Skew:                          -0.706   Prob(JB):                        0.363\n",
      "Kurtosis:                       3.182   Cond. No.                         1.51\n",
      "==============================================================================\n",
      "\n",
      "Notes:\n",
      "[1] Standard Errors assume that the covariance matrix of the errors is correctly specified.\n"
     ]
    }
   ],
   "source": [
    "results = sm.OLS(df_DYYY_pct_change,X_df_HTYY_pct_change).fit()\n",
    "print(results.summary())"
   ],
   "metadata": {
    "collapsed": false,
    "pycharm": {
     "name": "#%%\n"
    }
   }
  },
  {
   "cell_type": "code",
   "execution_count": 86,
   "outputs": [
    {
     "data": {
      "text/plain": "array([-0.41127132, -0.0919402 , -0.88135007,  0.22549151, -0.14549406,\n        0.33825112, -0.51837904, -1.29166716, -0.35415028, -1.16366601,\n        0.21145447, -0.75547996, -0.69937812,  1.51537056, -0.09444185,\n       -0.1464206 ,  0.65054055,  0.17592176, -1.39710711,  0.16915804,\n       -1.22574402, -0.3521119 , -0.14730081, -0.9546855 ])"
     },
     "execution_count": 86,
     "metadata": {},
     "output_type": "execute_result"
    }
   ],
   "source": [
    "fitted_Ys = results.fittedvalues\n",
    "fitted_Ys"
   ],
   "metadata": {
    "collapsed": false,
    "pycharm": {
     "name": "#%%\n"
    }
   }
  },
  {
   "cell_type": "code",
   "execution_count": 87,
   "outputs": [
    {
     "data": {
      "text/plain": "<matplotlib.legend.Legend at 0x19a61f06100>"
     },
     "execution_count": 87,
     "metadata": {},
     "output_type": "execute_result"
    },
    {
     "data": {
      "text/plain": "<Figure size 1080x576 with 1 Axes>",
      "image/png": "[encoded data removed]"
     },
     "metadata": {
      "needs_background": "light"
     },
     "output_type": "display_data"
    }
   ],
   "source": [
    "fig, ax = plt.subplots(figsize=(15,8))\n",
    "ax.plot(df_HTYY_pct_change,df_DYYY_pct_change,\"o\",label=\"data\")\n",
    "ax.plot(df_HTYY_pct_change,fitted_Ys,\"r--\",label=\"OLS\")\n",
    "ax.legend()"
   ],
   "metadata": {
    "collapsed": false,
    "pycharm": {
     "name": "#%%\n"
    }
   }
  },
  {
   "cell_type": "code",
   "execution_count": null,
   "outputs": [],
   "source": [],
   "metadata": {
    "collapsed": false,
    "pycharm": {
     "name": "#%%\n"
    }
   }
  }
 ],
 "metadata": {
  "kernelspec": {
   "display_name": "Python 3",
   "language": "python",
   "name": "python3"
  },
  "language_info": {
   "codemirror_mode": {
    "name": "ipython",
    "version": 2
   },
   "file_extension": ".py",
   "mimetype": "text/x-python",
   "name": "python",
   "nbconvert_exporter": "python",
   "pygments_lexer": "ipython2",
   "version": "2.7.6"
  }
 },
 "nbformat": 4,
 "nbformat_minor": 0
}