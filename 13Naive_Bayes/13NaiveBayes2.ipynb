{
 "cells": [
  {
   "cell_type": "markdown",
   "metadata": {
    "collapsed": true,
    "pycharm": {
     "name": "#%% md\n"
    }
   },
   "source": [
    "Created by william from lexueoude.com. 更多正版技术视频讲解，公众号 1.乐学偶得（lexueoude）2.乐学FinTech (LoveShareFinTech)\n",
    "\n",
    "split the data by it's class"
   ]
  },
  {
   "cell_type": "code",
   "execution_count": 2,
   "outputs": [],
   "source": [
    "def split_our_data_by_class(dataset):\n",
    "    splited_data = dict()\n",
    "    for i in range(len(dataset)):\n",
    "        vector = dataset[i]\n",
    "        class_value = vector[-1]\n",
    "        if (class_value not in splited_data):\n",
    "            splited_data[class_value] =list()\n",
    "        splited_data[class_value].append(vector)\n",
    "    return splited_data\n"
   ],
   "metadata": {
    "collapsed": false,
    "pycharm": {
     "name": "#%%\n"
    }
   }
  },
  {
   "cell_type": "code",
   "execution_count": 12,
   "outputs": [
    {
     "data": {
      "text/plain": "{0: [[0.8, 2.3, 0],\n  [2.1, 1.6, 0],\n  [2.0, 3.6, 0],\n  [3.1, 2.5, 0],\n  [3.8, 4.7, 0]],\n 1: [[6.1, 4.4, 1],\n  [8.6, 0.3, 1],\n  [7.9, 5.3, 1],\n  [9.1, 2.5, 1],\n  [6.8, 2.7, 1]]}"
     },
     "execution_count": 12,
     "metadata": {},
     "output_type": "execute_result"
    }
   ],
   "source": [
    "# create our dummy data\n",
    "\n",
    "dataset = [ [0.8,2.3,0],\n",
    "    [2.1,1.6,0],\n",
    "    [2.0,3.6,0],\n",
    "    [3.1,2.5,0],\n",
    "    [3.8,4.7,0],\n",
    "    [6.1,4.4,1],\n",
    "    [8.6,0.3,1],\n",
    "    [7.9,5.3,1],\n",
    "    [9.1,2.5,1],\n",
    "    [6.8,2.7,1]]\n",
    "\n",
    "splited = split_our_data_by_class(dataset)\n",
    "splited"
   ],
   "metadata": {
    "collapsed": false,
    "pycharm": {
     "name": "#%%\n"
    }
   }
  },
  {
   "cell_type": "code",
   "execution_count": 11,
   "outputs": [
    {
     "name": "stdout",
     "output_type": "stream",
     "text": [
      "0\n",
      "[0.8, 2.3, 0]\n",
      "[2.1, 1.6, 0]\n",
      "[2.0, 3.6, 0]\n",
      "[3.1, 2.5, 0]\n",
      "[3.8, 4.7, 0]\n",
      "1\n",
      "[6.1, 4.4, 1]\n",
      "[8.6, 0.3, 1]\n",
      "[7.9, 5.3, 1]\n",
      "[9.1, 2.5, 1]\n",
      "[6.8, 2.7, 1]\n"
     ]
    }
   ],
   "source": [
    "for label in splited:\n",
    "    print(label)\n",
    "    for row in splited[label]:\n",
    "        print(row)"
   ],
   "metadata": {
    "collapsed": false,
    "pycharm": {
     "name": "#%%\n"
    }
   }
  },
  {
   "cell_type": "markdown",
   "source": [
    "calculate mean and standard deviation(n-1)"
   ],
   "metadata": {
    "collapsed": false,
    "pycharm": {
     "name": "#%% md\n"
    }
   }
  },
  {
   "cell_type": "code",
   "execution_count": 5,
   "outputs": [],
   "source": [
    "from math import sqrt\n",
    "\n",
    "def calculate_the_mean(a_list_of_num):\n",
    "    mean = sum(a_list_of_num)/float(len(a_list_of_num))\n",
    "    return mean\n",
    "\n",
    "def calculate_the_standard_deviation(a_list_of_num):\n",
    "    the_mean = calculate_the_mean(a_list_of_num)\n",
    "    the_variance = sum([(x-the_mean)**2 for x in a_list_of_num])/ float(len(a_list_of_num)-1)\n",
    "    std = sqrt(the_variance)\n",
    "    return std\n",
    "\n",
    "\n",
    "\n",
    "\n",
    "# 接下来咱们用pure python写一个类似pandas的describe功能\n",
    "# import pandas as pd\n",
    "#\n",
    "# df =  pd.DataFrame(dataset)\n",
    "# df\n",
    "# df.info()\n",
    "# df.describe()\n"
   ],
   "metadata": {
    "collapsed": false,
    "pycharm": {
     "name": "#%%\n"
    }
   }
  },
  {
   "cell_type": "code",
   "execution_count": 6,
   "outputs": [
    {
     "data": {
      "text/plain": "[(5.029999999999999, 3.031702858497551, 10), (2.99, 1.5212933094355385, 10)]"
     },
     "execution_count": 6,
     "metadata": {},
     "output_type": "execute_result"
    }
   ],
   "source": [
    "# 注意返回值的形式：字典-列表-元组\n",
    "def describe_our_data(dataset):\n",
    "    description = [(calculate_the_mean(column),\n",
    "                    calculate_the_standard_deviation(column),\n",
    "                    len(column)) for column in zip(*dataset)]\n",
    "    del(description[-1])\n",
    "    return description\n",
    "\n",
    "describe_our_data(dataset)"
   ],
   "metadata": {
    "collapsed": false,
    "pycharm": {
     "name": "#%%\n"
    }
   }
  },
  {
   "cell_type": "code",
   "execution_count": 7,
   "outputs": [],
   "source": [
    "def describe_our_data_by_class(dataset):\n",
    "    splited_data = split_our_data_by_class(dataset)\n",
    "    data_description = dict()\n",
    "    for class_value,rows in splited_data.items():\n",
    "        data_description[class_value] = describe_our_data(rows)\n",
    "    return data_description\n"
   ],
   "metadata": {
    "collapsed": false,
    "pycharm": {
     "name": "#%%\n"
    }
   }
  },
  {
   "cell_type": "code",
   "execution_count": 8,
   "outputs": [
    {
     "name": "stdout",
     "output_type": "stream",
     "text": [
      "{0: [(2.3600000000000003, 1.1458621208504973, 5), (2.94, 1.2177848742696717, 5)], 1: [(7.7, 1.2429802894656052, 5), (3.04, 1.9282116066448725, 5)]}\n",
      "---------\n",
      "[(2.3600000000000003, 1.1458621208504973, 5), (2.94, 1.2177848742696717, 5)]\n",
      "---------\n",
      "(2.3600000000000003, 1.1458621208504973, 5)\n",
      "--------\n",
      "5\n"
     ]
    }
   ],
   "source": [
    "description = describe_our_data_by_class(dataset)\n",
    "# for label in description:\n",
    "#     print(label)\n",
    "#     for row in description[label]:\n",
    "#         print(row)\n",
    "\n",
    "# 所以我们返回的是一个字典类型\n",
    "type(description)\n",
    "\n",
    "print(description)\n",
    "print(\"---------\")\n",
    "print(description[0])\n",
    "print(\"---------\")\n",
    "print(description[0][0])\n",
    "print(\"--------\")\n",
    "print(description[0][0][2])\n",
    "\n",
    "\n",
    "\n"
   ],
   "metadata": {
    "collapsed": false,
    "pycharm": {
     "name": "#%%\n"
    }
   }
  },
  {
   "cell_type": "markdown",
   "source": [
    "如何评价一个概率值<br>\n",
    "可以认为从其中一个分布中，分析此某值在分布中的概率情况<br>\n",
    "高斯分布（正态分布）<br>\n",
    "$$ {\\displaystyle {\\frac {1}{\\sigma {\\sqrt {2\\pi }}}}e^{-{\\frac {1}{2}}\\left({\\frac {x-\\mu }{\\sigma }}\\right)^{2}}} $$"
   ],
   "metadata": {
    "collapsed": false,
    "pycharm": {
     "name": "#%% md\n"
    }
   }
  },
  {
   "cell_type": "code",
   "execution_count": 16,
   "outputs": [
    {
     "data": {
      "text/plain": "0.24197072451914337"
     },
     "execution_count": 16,
     "metadata": {},
     "output_type": "execute_result"
    }
   ],
   "source": [
    "from math import exp,sqrt,pi\n",
    "# 计算x在mean和stdev的正态分布中，其概率是多少\n",
    "def calculate_the_probability(x,mean,stdev):\n",
    "    exponent = exp(-((x-mean)**2/(2*stdev**2)))\n",
    "    result = (1/(sqrt(2*pi)*stdev))* exponent\n",
    "    return result\n",
    "\n",
    "# calculate_the_probability(1.0,1.0,1.0)\n",
    "# calculate_the_probability(2.0,1.0,1.0)\n",
    "# calculate_the_probability(0.0,1.0,1.0)"
   ],
   "metadata": {
    "collapsed": false,
    "pycharm": {
     "name": "#%%\n"
    }
   }
  },
  {
   "cell_type": "code",
   "execution_count": 10,
   "outputs": [],
   "source": [
    "def calculate_class_probability(description,row):\n",
    "    total_rows = sum([description[label][0][2] for label in description])\n",
    "    probabilities = dict()\n",
    "    for class_value,class_description in description.items():\n",
    "        probabilities[class_value] = description[class_value][0][2]/float(total_rows)\n",
    "        for i in range(len(class_description)):\n",
    "            mean,stdev,count = class_description[i]\n",
    "            probabilities[class_value] *= calculate_the_probability(row[i],mean,stdev)\n",
    "    return probabilities"
   ],
   "metadata": {
    "collapsed": false,
    "pycharm": {
     "name": "#%%\n"
    }
   }
  }
 ],
 "metadata": {
  "kernelspec": {
   "name": "python3",
   "language": "python",
   "display_name": "Python 3 (ipykernel)"
  },
  "language_info": {
   "codemirror_mode": {
    "name": "ipython",
    "version": 2
   },
   "file_extension": ".py",
   "mimetype": "text/x-python",
   "name": "python",
   "nbconvert_exporter": "python",
   "pygments_lexer": "ipython2",
   "version": "2.7.6"
  }
 },
 "nbformat": 4,
 "nbformat_minor": 0
}