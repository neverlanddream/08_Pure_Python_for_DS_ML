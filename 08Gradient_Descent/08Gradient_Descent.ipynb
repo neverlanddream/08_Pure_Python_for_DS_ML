{
 "cells": [
  {
   "cell_type": "markdown",
   "source": [
    "<img alt=\"pic_step_size.jpg\" height=\"550\" src=\"pic_step_size.jpg\" width=\"1200\"/>"
   ],
   "metadata": {
    "collapsed": false,
    "pycharm": {
     "name": "#%% md\n"
    }
   }
  },
  {
   "cell_type": "markdown",
   "metadata": {
    "collapsed": true,
    "pycharm": {
     "name": "#%% md\n"
    }
   },
   "source": [
    "Step Size for calculating Slope = Slope * LearningRate <br>\n",
    "上图红色线为loss function，为了让机器在计算时尽快找到loss function的最低点，应该在远离低点时快一些试值（步长快一些），在离低点近时慢一些试值（步长小一下），所以借用远处的斜率大，近处的斜率小，让斜率乘以设定的基础步长（也就是LearningRate）来实现控制step size。这是在二维的情况，当维数推广，引用梯度的概念，是一样的原理。"
   ]
  },
  {
   "cell_type": "markdown",
   "source": [
    "<img alt=\"pic_interset_slope.jpg\" height=\"550\" src=\"pic_interset_slope.jpg\" width=\"1200\"/>"
   ],
   "metadata": {
    "collapsed": false,
    "pycharm": {
     "name": "#%% md\n"
    }
   }
  },
  {
   "cell_type": "markdown",
   "source": [
    "interset相当于x轴。如上图，分别对intercept和slope求导。  <br>\n",
    " <br>\n",
    "Step Size for calculating intercept = intercept * Learning Rate <br>\n",
    "Step Size for calculating slope= Slope * Learning Rate <br>\n",
    " <br>\n",
    "New Intercept = Old Intercept - Step Size for calculating intercept <br>\n",
    "New Slope = Old Slope - Step Size for calculating Slope <br>"
   ],
   "metadata": {
    "collapsed": false,
    "pycharm": {
     "name": "#%% md\n"
    }
   }
  },
  {
   "cell_type": "markdown",
   "source": [
    "终止条件： <br>\n",
    "1.可自定义小于某一个值（如0.0001）的时候终止 <br>\n",
    "2.或者定义step数大于某一个值10000 <br>"
   ],
   "metadata": {
    "collapsed": false,
    "pycharm": {
     "name": "#%% md\n"
    }
   }
  },
  {
   "cell_type": "markdown",
   "source": [
    "建立模型的整体思路： <br>\n",
    "1.首先把Loss Function写出来（内含参数），去求其梯度（take the Gradient/求导） <br>\n",
    "2.随机选取一些值带入 <br>\n",
    "3.进行计算step size（步幅）\n",
    "4.计算最新的参数 <br>\n",
    " <br>\n",
    "2-4步循环 <br>\n",
    " <br>\n",
    "5.最终触发终止条件，结束。 <br>"
   ],
   "metadata": {
    "collapsed": false,
    "pycharm": {
     "name": "#%% md\n"
    }
   }
  },
  {
   "cell_type": "code",
   "execution_count": null,
   "outputs": [],
   "source": [],
   "metadata": {
    "collapsed": false,
    "pycharm": {
     "name": "#%%\n"
    }
   }
  }
 ],
 "metadata": {
  "kernelspec": {
   "display_name": "Python 3",
   "language": "python",
   "name": "python3"
  },
  "language_info": {
   "codemirror_mode": {
    "name": "ipython",
    "version": 2
   },
   "file_extension": ".py",
   "mimetype": "text/x-python",
   "name": "python",
   "nbconvert_exporter": "python",
   "pygments_lexer": "ipython2",
   "version": "2.7.6"
  }
 },
 "nbformat": 4,
 "nbformat_minor": 0
}