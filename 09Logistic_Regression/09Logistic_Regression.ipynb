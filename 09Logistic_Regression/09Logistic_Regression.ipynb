{
 "cells": [
  {
   "cell_type": "markdown",
   "metadata": {
    "collapsed": true,
    "pycharm": {
     "name": "#%% md\n"
    }
   },
   "source": [
    "logistic regression更多的是从概率的层面进行建模，但是实际应用中，更多的用在二元分类型的问题。"
   ]
  },
  {
   "cell_type": "markdown",
   "source": [
    "<img alt=\"pic_logistic_model.jpg\" height=\"550\" src=\"pic_logistic_model.jpg\" width=\"1200\"/>"
   ],
   "metadata": {
    "collapsed": false,
    "pycharm": {
     "name": "#%% md\n"
    }
   }
  },
  {
   "cell_type": "markdown",
   "source": [
    "什么算是最好的拟合？ <br>\n",
    "最大似然估计： <br>\n",
    "即最大的可能性，各种分布最可能的分布情况。下图以均值的最大可能性为例。"
   ],
   "metadata": {
    "collapsed": false,
    "pycharm": {
     "name": "#%% md\n"
    }
   }
  },
  {
   "cell_type": "markdown",
   "source": [
    "<img alt=\"pic_likelihood_mean.jpg\" height=\"550\" src=\"pic_likelihood_mean.jpg\" width=\"1200\"/>"
   ],
   "metadata": {
    "collapsed": false,
    "pycharm": {
     "name": "#%% md\n"
    }
   }
  },
  {
   "cell_type": "markdown",
   "source": [
    "下图以standard deviation的最大可能性为例（横轴为标准差）："
   ],
   "metadata": {
    "collapsed": false,
    "pycharm": {
     "name": "#%% md\n"
    }
   }
  },
  {
   "cell_type": "markdown",
   "source": [
    "<img alt=\"pic_likelihood_std.jpg\" height=\"550\" src=\"pic_likelihood_std.jpg\" width=\"1200\"/>"
   ],
   "metadata": {
    "collapsed": false,
    "pycharm": {
     "name": "#%% md\n"
    }
   }
  },
  {
   "cell_type": "markdown",
   "source": [
    "应用举例：\n",
    "赔率（odds，赢的场次除以输的场次）与概率互相转化。看赔率时，度量衡不是线性的，而人是习惯线性思维，这是赌场的小把戏。"
   ],
   "metadata": {
    "collapsed": false,
    "pycharm": {
     "name": "#%% md\n"
    }
   }
  },
  {
   "cell_type": "markdown",
   "source": [
    "<img alt=\"pic_odds_and_probabilty.jpg\" height=\"550\" src=\"pic_odds_and_probabilty.jpg\" width=\"1200\"/>"
   ],
   "metadata": {
    "collapsed": false,
    "pycharm": {
     "name": "#%% md\n"
    }
   }
  },
  {
   "cell_type": "markdown",
   "source": [
    "log of odds:"
   ],
   "metadata": {
    "collapsed": false,
    "pycharm": {
     "name": "#%% md\n"
    }
   }
  },
  {
   "cell_type": "markdown",
   "source": [
    "<img alt=\"pic_odds_log.jpg\" height=\"550\" src=\"pic_odds_log.jpg\" width=\"1200\"/>"
   ],
   "metadata": {
    "collapsed": false,
    "pycharm": {
     "name": "#%% md\n"
    }
   }
  },
  {
   "cell_type": "markdown",
   "source": [
    "假设换某病的概率为P，用odds来表示P，推导如下： <br>\n",
    "$\\log(\\frac {P}{1-P}) = \\log(odds) $<br>\n",
    "$\\frac {P}{1-P} = e^{\\log(odds)} $<br>\n",
    "$P(1+e^{\\log(odds)}) = e^{\\log(odds)} $<br>\n",
    "$P = \\frac {e^{\\log(odds)}} {1-e^{\\log(odds)}} $<br>"
   ],
   "metadata": {
    "collapsed": false,
    "pycharm": {
     "name": "#%% md\n"
    }
   }
  },
  {
   "cell_type": "markdown",
   "source": [
    "Logistic Regression <br>\n",
    "$\\hat y = \\frac {e^{b_0+b_1 x_1}} {1+e^{b_0+b_1 x_1}}$ <br>\n",
    "$\\hat y = \\frac {1} {1+e^{-(b_0+b_1 x_1)}}$ <br>"
   ],
   "metadata": {
    "collapsed": false,
    "pycharm": {
     "name": "#%% md\n"
    }
   }
  },
  {
   "cell_type": "markdown",
   "source": [
    "$ b = b + learning \\: rate * (y-\\hat y) * \\hat y *(1-\\hat y)*x$"
   ],
   "metadata": {
    "collapsed": false,
    "pycharm": {
     "name": "#%% md\n"
    }
   }
  },
  {
   "cell_type": "code",
   "execution_count": 10,
   "outputs": [],
   "source": [
    "# prediction function\n",
    "from math import exp\n",
    "\n",
    "def prediction(row, coeffients):            #yhat先赋值给b_0,然后通过+=b_1*x_1,...(循环)...,+=b_k*x_k，最后算出最终的yhat。\n",
    "    yhat = coeffients[0]                    #coeffients[0]==b_0 , coeffients[1]==b_1 ,..., coeffients[k]==b_k\n",
    "    for i in range(len(row)-1):             #len(row)计算出的是序数，len(row)-1转换为基数，即机器识别列表元素相位的数\n",
    "        yhat += coeffients[i+1] * row[i]    #row[0]==x_1 , row[1]==x_2 ,..., row[k-1]==x_k, row[k]==x_k+1\n",
    "    return 1/(1+exp(-yhat))"
   ],
   "metadata": {
    "collapsed": false,
    "pycharm": {
     "name": "#%%\n"
    }
   }
  },
  {
   "cell_type": "markdown",
   "source": [
    "假设有两组数据，第一组结果（0/1）都是0，第二组结果（0/1）都是1，以下是两组数：<br>\n",
    "X1 , X2 , 0/1 <br>\n",
    "2 , 2 , 0 <br>\n",
    "2 , 4 , 0 <br>\n",
    "3 , 3 , 0 <br>\n",
    "4 , 5 , 0 <br>\n",
    "<br>\n",
    "8 , 1 , 1 <br>\n",
    "8.5,3.5,1 <br>\n",
    "9 , 1 , 1 <br>\n",
    "10, 4 , 1 <br>\n",
    "根据以上两组数据建立模型，看预测是否准确。<br>\n",
    "$\\hat y = \\frac {1}{1 + e^{-(b_0 + b_1*X_1 + b_2*X_2}}$"
   ],
   "metadata": {
    "collapsed": false,
    "pycharm": {
     "name": "#%% md\n"
    }
   }
  },
  {
   "cell_type": "code",
   "execution_count": 10,
   "outputs": [
    {
     "name": "stdout",
     "output_type": "stream",
     "text": [
      "Our Expected Value(Real Value) is 0.000, the Predicted Value is 0.154 [0]\n",
      "Our Expected Value(Real Value) is 0.000, the Predicted Value is 0.009 [0]\n",
      "Our Expected Value(Real Value) is 0.000, the Predicted Value is 0.091 [0]\n",
      "Our Expected Value(Real Value) is 0.000, the Predicted Value is 0.012 [0]\n",
      "Our Expected Value(Real Value) is 1.000, the Predicted Value is 0.995 [1]\n",
      "Our Expected Value(Real Value) is 1.000, the Predicted Value is 0.870 [1]\n",
      "Our Expected Value(Real Value) is 1.000, the Predicted Value is 0.998 [1]\n",
      "Our Expected Value(Real Value) is 1.000, the Predicted Value is 0.924 [1]\n"
     ]
    }
   ],
   "source": [
    "dataset = [[2 , 2 , 0],\n",
    "           [2 , 4 , 0],\n",
    "           [3 , 3 , 0],\n",
    "           [4 , 5 , 0],\n",
    "           [8 , 1 , 1],\n",
    "           [8.5,3.5,1],\n",
    "           [9 , 1 , 1],\n",
    "           [10, 4 , 1]]\n",
    "\n",
    "coef = [-0.5,0.9,-1.5]  #此处举例，暂时给定系数[b0, b1, b2]，实际使用模型需要依据learning rate让机器试出来。\n",
    "\n",
    "for row in dataset:\n",
    "    yhat = prediction(row,coef)\n",
    "    print(\"Our Expected Value(Real Value) is %.3f, the Predicted Value is %.3f [%d]\"%(row[-1], yhat, round(yhat)))"
   ],
   "metadata": {
    "collapsed": false,
    "pycharm": {
     "name": "#%%\n"
    }
   }
  },
  {
   "cell_type": "markdown",
   "source": [
    "如何计算coefficient，数学基础： 【？？？下面三个公式中是否有gradient，或者说gradient与error的关系还如何表述尚存疑，待确定？？？】 <br>\n",
    "$ b_0(t+1) = b_0(t) - learning \\: rates * error(t) * gradient $  <br>\n",
    "$ b_1(t+1) = b_1(t) - learning \\: rates * error(t) * gradient * x_1(t) $  <br>\n",
    "$ error(t) * gradient = (prediction - expected\\:or\\:actual) * derivative  = (\\hat y_t - y_t) * \\hat y_t * (1 - \\hat y_t)\\ $  <br>\n",
    "此例模型的原函数： <br>\n",
    "$ sigmoid function =  \\frac {1}{1+e^{-x}} $<br>\n",
    "原函数求导过程：  （最终目的是将结果以$\\sigma(x)$的形式表示）<br>\n",
    "$\\frac {d}{dx}\\sigma (x)                                  $<br>\n",
    "$= \\frac {d}{dx} ( \\frac {1}{1+e^{-x}} )                  $<br>\n",
    "$= \\frac {d}{dx} (1+e^{-x}) ^ {-1}                        $<br>\n",
    "$= -(1+e^{-x}) ^ {-2} (-e^{-x})                           $<br>\n",
    "$= \\frac {e^{-x}}{ (1+e^{-x}) ^ {2} }                     $<br>\n",
    "$= \\frac {1}{1+e^{-x}} * \\frac { 1+e^{-x}-1 }{ 1+e^{-x} } $<br>\n",
    "$= \\frac {1}{1+e^{-x}} *(1- \\frac {1}{ 1+e^{-x} } )       $<br>\n",
    "$= \\sigma(x)*(1-\\sigma(x))                                $"
   ],
   "metadata": {
    "collapsed": false,
    "pycharm": {
     "name": "#%% md\n"
    }
   }
  },
  {
   "cell_type": "code",
   "execution_count": null,
   "outputs": [],
   "source": [
    "#using stochastic gradient decent method to calculate logistic regression coefficients\n",
    "#与02中的算法相似。对比，coefficient公式有不同。\n",
    "\n",
    "def using_sgd_method_to_calculate_coefficients(training_dataset, learning_rate, n_times_epoch):\n",
    "    coefficients = [0.0 for i in range(len(training_dataset[0]))]\n",
    "    for epoch in range(n_times_epoch):\n",
    "        the_sum_of_error = 0\n",
    "        for row in training_dataset:\n",
    "            y_hat = prediction(row, coefficients)\n",
    "            error = y_hat - row[-1]\n",
    "            the_sum_of_error += error ** 2\n",
    "            gradient = y_hat * ( 1.0 - y_hat )\n",
    "            # 先计算b_0,再用for计算其余系数b\n",
    "            coefficients[0] = coefficients[0] - learning_rate * error * gradient\n",
    "            for i in range(len(row)-1):\n",
    "                coefficients[i+1] = coefficients[i+1] - learning_rate * error * gradient * row[i]\n",
    "        print(\"This is epoch 【%d】 , the learning rate we are using is 【%.3f】, the error is  【%.3f】\"%(\n",
    "            epoch,learning_rate,the_sum_of_error))\n",
    "    return coefficients"
   ],
   "metadata": {
    "collapsed": false,
    "pycharm": {
     "name": "#%%\n"
    }
   }
  },
  {
   "cell_type": "code",
   "execution_count": null,
   "outputs": [],
   "source": [],
   "metadata": {
    "collapsed": false,
    "pycharm": {
     "name": "#%%\n"
    }
   }
  }
 ],
 "metadata": {
  "kernelspec": {
   "display_name": "Python 3",
   "language": "python",
   "name": "python3"
  },
  "language_info": {
   "codemirror_mode": {
    "name": "ipython",
    "version": 2
   },
   "file_extension": ".py",
   "mimetype": "text/x-python",
   "name": "python",
   "nbconvert_exporter": "python",
   "pygments_lexer": "ipython2",
   "version": "2.7.6"
  }
 },
 "nbformat": 4,
 "nbformat_minor": 0
}