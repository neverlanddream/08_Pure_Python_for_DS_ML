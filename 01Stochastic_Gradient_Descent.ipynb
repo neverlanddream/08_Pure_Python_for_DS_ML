{
 "cells": [
  {
   "cell_type": "markdown",
   "metadata": {
    "collapsed": true,
    "pycharm": {
     "name": "#%% md\n"
    }
   },
   "source": [
    "Gradient Descent <br>\n",
    "Stochastic <br>\n",
    "Stochastic Gradient Descent  将随机迭代和梯度下降两者结合 也就是说我们可以通过不断的迭代（iteration），去将coefficient(b)进行优化：<br>\n",
    "$ b = b - learning \\: rate * error * x$ <br>\n",
    "下例以一元简单线性回归为例$ \\hat Y = b_0 + b_1 X $  其中coefficients分别为[$b_0 \\:,\\:b_1$]"
   ]
  },
  {
   "cell_type": "code",
   "execution_count": 8,
   "outputs": [
    {
     "name": "stdout",
     "output_type": "stream",
     "text": [
      "Expected = 1.000 , Our_Prediction = 1.200\n",
      "Expected = 3.000 , Our_Prediction = 2.000\n",
      "Expected = 3.000 , Our_Prediction = 3.600\n",
      "Expected = 2.000 , Our_Prediction = 2.800\n",
      "Expected = 5.000 , Our_Prediction = 4.400\n"
     ]
    }
   ],
   "source": [
    "# make prediction （coefficients[0]即为两个参数中的b_0, coefficients[i+1]即为b_1）\n",
    "def make_prediction(input_row,coefficients):\n",
    "    output_y_hat = coefficients[0]\n",
    "    for i in range(len(input_row)-1):\n",
    "        output_y_hat += coefficients[i+1] * input_row[i]\n",
    "    return output_y_hat\n",
    "\n",
    "test_dataset = [[1,1],[2,3],[4,3],[3,2],[5,5]]\n",
    "test_coefficients = [0.4, 0.8]\n",
    "\n",
    "for row in test_dataset:\n",
    "    y_hat = make_prediction(row, test_coefficients)\n",
    "    print(\"Expected = %.3f , Our_Prediction = %.3f\"%(row[-1], y_hat))"
   ],
   "metadata": {
    "collapsed": false,
    "pycharm": {
     "name": "#%%\n"
    }
   }
  },
  {
   "cell_type": "markdown",
   "source": [
    "epochs：次数，我们这个模型不断通过学习training data，不断进行迭代更新coefficient <br>\n",
    "$ b = b - learning \\: rate * error * x$ <br>\n",
    "1.把所有的epochs进行Loop  <br>\n",
    "2.在每一个epoch里面，训练集row进行循环 <br>\n",
    "3.每一次循环进行coefficient调优 <br>\n",
    "$ b_0(t+1) = b_0(t) - learning \\: rates * error(t) $  <br>\n",
    "$ b_1(t+1) = b_1(t) - learning \\: rates * error(t) * x_1(t) $  <br>\n",
    "$ error = prediction - expected \\:(actual) $  <br>"
   ],
   "metadata": {
    "collapsed": false,
    "pycharm": {
     "name": "#%% md\n"
    }
   }
  },
  {
   "cell_type": "code",
   "execution_count": null,
   "outputs": [],
   "source": [],
   "metadata": {
    "collapsed": false,
    "pycharm": {
     "name": "#%%\n"
    }
   }
  }
 ],
 "metadata": {
  "kernelspec": {
   "display_name": "Python 3",
   "language": "python",
   "name": "python3"
  },
  "language_info": {
   "codemirror_mode": {
    "name": "ipython",
    "version": 2
   },
   "file_extension": ".py",
   "mimetype": "text/x-python",
   "name": "python",
   "nbconvert_exporter": "python",
   "pygments_lexer": "ipython2",
   "version": "2.7.6"
  }
 },
 "nbformat": 4,
 "nbformat_minor": 0
}